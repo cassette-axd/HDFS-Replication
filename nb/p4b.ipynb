{
 "cells": [
  {
   "cell_type": "markdown",
   "id": "3cbfa5e4-6571-4fca-b868-96305e834f0d",
   "metadata": {},
   "source": [
    "# Part 4: Disaster Strikes"
   ]
  },
  {
   "cell_type": "code",
   "execution_count": 11,
   "id": "4510438c-34d5-4231-aff2-5efc5ef684b8",
   "metadata": {},
   "outputs": [
    {
     "name": "stdout",
     "output_type": "stream",
     "text": [
      "Configured Capacity: 25821052928 (24.05 GB)\n",
      "Present Capacity: 19485822976 (18.15 GB)\n",
      "DFS Remaining: 19228311552 (17.91 GB)\n",
      "DFS Used: 257511424 (245.58 MB)\n",
      "DFS Used%: 1.32%\n",
      "Replicated Blocks:\n",
      "\tUnder replicated blocks: 167\n",
      "\tBlocks with corrupt replicas: 0\n",
      "\tMissing blocks: 91\n",
      "\tMissing blocks (with replication factor 1): 91\n",
      "\tLow redundancy blocks with highest priority to recover: 167\n",
      "\tPending deletion blocks: 0\n",
      "Erasure Coded Block Groups: \n",
      "\tLow redundancy block groups: 0\n",
      "\tBlock groups with corrupt internal blocks: 0\n",
      "\tMissing block groups: 0\n",
      "\tLow redundancy blocks with highest priority to recover: 0\n",
      "\tPending deletion blocks: 0\n",
      "\n",
      "-------------------------------------------------\n",
      "Live datanodes (1):\n",
      "\n",
      "Name: 172.18.0.3:9866 (p4-dn-2.p4_default)\n",
      "Hostname: 56938a0ee70e\n",
      "Decommission Status : Normal\n",
      "Configured Capacity: 25821052928 (24.05 GB)\n",
      "DFS Used: 257511424 (245.58 MB)\n",
      "Non DFS Used: 6318452736 (5.88 GB)\n",
      "DFS Remaining: 19228311552 (17.91 GB)\n",
      "DFS Used%: 1.00%\n",
      "DFS Remaining%: 74.47%\n",
      "Configured Cache Capacity: 0 (0 B)\n",
      "Cache Used: 0 (0 B)\n",
      "Cache Remaining: 0 (0 B)\n",
      "Cache Used%: 100.00%\n",
      "Cache Remaining%: 0.00%\n",
      "Xceivers: 0\n",
      "Last contact: Thu Oct 26 20:36:08 GMT 2023\n",
      "Last Block Report: Thu Oct 26 18:18:22 GMT 2023\n",
      "Num of Blocks: 243\n",
      "\n",
      "\n",
      "Dead datanodes (1):\n",
      "\n",
      "Name: 172.18.0.5:9866 (172.18.0.5)\n",
      "Hostname: 576dd8534800\n",
      "Decommission Status : Normal\n",
      "Configured Capacity: 25821052928 (24.05 GB)\n",
      "DFS Used: 273596416 (260.92 MB)\n",
      "Non DFS Used: 6302298112 (5.87 GB)\n",
      "DFS Remaining: 19228381184 (17.91 GB)\n",
      "DFS Used%: 1.06%\n",
      "DFS Remaining%: 74.47%\n",
      "Configured Cache Capacity: 0 (0 B)\n",
      "Cache Used: 0 (0 B)\n",
      "Cache Remaining: 0 (0 B)\n",
      "Cache Used%: 100.00%\n",
      "Cache Remaining%: 0.00%\n",
      "Xceivers: 0\n",
      "Last contact: Thu Oct 26 20:34:34 GMT 2023\n",
      "Last Block Report: Thu Oct 26 20:27:37 GMT 2023\n",
      "Num of Blocks: 0\n",
      "\n",
      "\n"
     ]
    }
   ],
   "source": [
    "#q8\n",
    "!hdfs dfsadmin -fs hdfs://boss:9000 -report"
   ]
  },
  {
   "cell_type": "code",
   "execution_count": 7,
   "id": "6ec8805f-cb68-4eac-b675-5073d1baa5e8",
   "metadata": {},
   "outputs": [
    {
     "ename": "KeyboardInterrupt",
     "evalue": "",
     "output_type": "error",
     "traceback": [
      "\u001b[0;31m---------------------------------------------------------------------------\u001b[0m",
      "\u001b[0;31mKeyboardInterrupt\u001b[0m                         Traceback (most recent call last)",
      "Cell \u001b[0;32mIn[7], line 2\u001b[0m\n\u001b[1;32m      1\u001b[0m \u001b[38;5;28;01mimport\u001b[39;00m \u001b[38;5;21;01mtime\u001b[39;00m\n\u001b[0;32m----> 2\u001b[0m \u001b[43mtime\u001b[49m\u001b[38;5;241;43m.\u001b[39;49m\u001b[43msleep\u001b[49m\u001b[43m(\u001b[49m\u001b[38;5;241;43m30\u001b[39;49m\u001b[43m)\u001b[49m\n",
      "\u001b[0;31mKeyboardInterrupt\u001b[0m: "
     ]
    }
   ],
   "source": [
    "import time\n",
    "time.sleep(30)"
   ]
  },
  {
   "cell_type": "code",
   "execution_count": 12,
   "id": "7197e5e9-01f0-471a-8996-ca09ebd14017",
   "metadata": {},
   "outputs": [
    {
     "data": {
      "text/plain": [
       "{'lost': 91.0, '56938a0ee70e': 75.83969402313232}"
      ]
     },
     "execution_count": 12,
     "metadata": {},
     "output_type": "execute_result"
    }
   ],
   "source": [
    "import requests\n",
    "r = requests.get(f\"http://boss:9870/webhdfs/v1/single.csv?op=GETFILEBLOCKLOCATIONS\")\n",
    "containerDict = {}\n",
    "for i in range(len(r.json().get(\"BlockLocations\").get(\"BlockLocation\"))):\n",
    "    offset = r.json().get(\"BlockLocations\").get(\"BlockLocation\")[i].get(\"offset\")\n",
    "    status = requests.get(f\"http://boss:9870/webhdfs/v1/single.csv?op=OPEN&offset={offset}&noredirect=true\");\n",
    "    if (status.status_code == 403):\n",
    "        id = \"lost\"\n",
    "    else:\n",
    "        id = r.json().get(\"BlockLocations\").get(\"BlockLocation\")[i].get(\"hosts\")[0]\n",
    "    blocks = r.json().get(\"BlockLocations\").get(\"BlockLocation\")[i].get(\"length\") / 1048576\n",
    "    count = containerDict.setdefault(id, 0)\n",
    "    if (count == None):\n",
    "            count = 0\n",
    "    containerDict.update({id: (count+blocks)});\n",
    "containerDict"
   ]
  },
  {
   "cell_type": "code",
   "execution_count": 13,
   "id": "051fe1b8-877e-48f6-b27e-bb8335f0b758",
   "metadata": {},
   "outputs": [],
   "source": [
    "import io\n",
    "import re"
   ]
  },
  {
   "cell_type": "code",
   "execution_count": 16,
   "id": "f488fff9-8258-4432-a644-f4272a5a4618",
   "metadata": {},
   "outputs": [
    {
     "name": "stdout",
     "output_type": "stream",
     "text": [
      "<Response [403]>\n",
      "<Response [200]>\n"
     ]
    },
    {
     "ename": "AttributeError",
     "evalue": "__enter__",
     "output_type": "error",
     "traceback": [
      "\u001b[0;31m---------------------------------------------------------------------------\u001b[0m",
      "\u001b[0;31mAttributeError\u001b[0m                            Traceback (most recent call last)",
      "Cell \u001b[0;32mIn[16], line 11\u001b[0m\n\u001b[1;32m      9\u001b[0m \u001b[38;5;28mprint\u001b[39m(status)\n\u001b[1;32m     10\u001b[0m \u001b[38;5;28;01mif\u001b[39;00m (status\u001b[38;5;241m.\u001b[39mstatus_code \u001b[38;5;241m!=\u001b[39m \u001b[38;5;241m403\u001b[39m):\n\u001b[0;32m---> 11\u001b[0m     \u001b[38;5;28;01mwith\u001b[39;00m status\u001b[38;5;241m.\u001b[39mcontent \u001b[38;5;28;01mas\u001b[39;00m f:\n\u001b[1;32m     12\u001b[0m         reader \u001b[38;5;241m=\u001b[39m io\u001b[38;5;241m.\u001b[39mTextIOWrapper(io\u001b[38;5;241m.\u001b[39mBufferedReader(f))\n\u001b[1;32m     13\u001b[0m         \u001b[38;5;28;01mfor\u001b[39;00m i, line \u001b[38;5;129;01min\u001b[39;00m \u001b[38;5;28menumerate\u001b[39m(reader):\n",
      "\u001b[0;31mAttributeError\u001b[0m: __enter__"
     ]
    }
   ],
   "source": [
    "#q10\n",
    "import requests\n",
    "count = 0\n",
    "r = requests.get(f\"http://boss:9870/webhdfs/v1/single.csv?op=GETFILEBLOCKLOCATIONS\")\n",
    "for i in range(len(r.json().get(\"BlockLocations\").get(\"BlockLocation\"))):\n",
    "    offset = r.json().get(\"BlockLocations\").get(\"BlockLocation\")[i].get(\"offset\")\n",
    "    length = r.json().get(\"BlockLocations\").get(\"BlockLocation\")[i].get(\"length\")\n",
    "    status = requests.get(f\"http://boss:9870/webhdfs/v1/single.csv?op=OPEN&offset={offset}&length={length}\");\n",
    "    print(status)\n",
    "    if (status.status_code != 403):\n",
    "        with status.content as f:\n",
    "            reader = io.TextIOWrapper(io.BufferedReader(f))\n",
    "            for i, line in enumerate(reader):\n",
    "                if re.search(r'Single Family', line):\n",
    "                    count += 1\n",
    "count"
   ]
  }
 ],
 "metadata": {
  "kernelspec": {
   "display_name": "Python 3 (ipykernel)",
   "language": "python",
   "name": "python3"
  },
  "language_info": {
   "codemirror_mode": {
    "name": "ipython",
    "version": 3
   },
   "file_extension": ".py",
   "mimetype": "text/x-python",
   "name": "python",
   "nbconvert_exporter": "python",
   "pygments_lexer": "ipython3",
   "version": "3.10.12"
  }
 },
 "nbformat": 4,
 "nbformat_minor": 5
}
