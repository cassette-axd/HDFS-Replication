{
 "cells": [
  {
   "cell_type": "markdown",
   "id": "3cbfa5e4-6571-4fca-b868-96305e834f0d",
   "metadata": {},
   "source": [
    "# Part 4: Disaster Strikes"
   ]
  },
  {
   "cell_type": "code",
   "execution_count": 1,
   "id": "4510438c-34d5-4231-aff2-5efc5ef684b8",
   "metadata": {},
   "outputs": [
    {
     "name": "stdout",
     "output_type": "stream",
     "text": [
      "Configured Capacity: 25821052928 (24.05 GB)\n",
      "Present Capacity: 19678228480 (18.33 GB)\n",
      "DFS Remaining: 19403743232 (18.07 GB)\n",
      "DFS Used: 274485248 (261.77 MB)\n",
      "DFS Used%: 1.39%\n",
      "Replicated Blocks:\n",
      "\tUnder replicated blocks: 167\n",
      "\tBlocks with corrupt replicas: 0\n",
      "\tMissing blocks: 75\n",
      "\tMissing blocks (with replication factor 1): 75\n",
      "\tLow redundancy blocks with highest priority to recover: 167\n",
      "\tPending deletion blocks: 0\n",
      "Erasure Coded Block Groups: \n",
      "\tLow redundancy block groups: 0\n",
      "\tBlock groups with corrupt internal blocks: 0\n",
      "\tMissing block groups: 0\n",
      "\tLow redundancy blocks with highest priority to recover: 0\n",
      "\tPending deletion blocks: 0\n",
      "\n",
      "-------------------------------------------------\n",
      "Live datanodes (1):\n",
      "\n",
      "Name: 172.18.0.4:9866 (p4-dn-2.p4_default)\n",
      "Hostname: bb88c4bdf380\n",
      "Decommission Status : Normal\n",
      "Configured Capacity: 25821052928 (24.05 GB)\n",
      "DFS Used: 274485248 (261.77 MB)\n",
      "Non DFS Used: 6126047232 (5.71 GB)\n",
      "DFS Remaining: 19403743232 (18.07 GB)\n",
      "DFS Used%: 1.06%\n",
      "DFS Remaining%: 75.15%\n",
      "Configured Cache Capacity: 0 (0 B)\n",
      "Cache Used: 0 (0 B)\n",
      "Cache Remaining: 0 (0 B)\n",
      "Cache Used%: 100.00%\n",
      "Cache Remaining%: 0.00%\n",
      "Xceivers: 0\n",
      "Last contact: Thu Oct 26 17:55:08 GMT 2023\n",
      "Last Block Report: Thu Oct 26 17:27:05 GMT 2023\n",
      "Num of Blocks: 259\n",
      "\n",
      "\n",
      "Dead datanodes (1):\n",
      "\n",
      "Name: 172.18.0.5:9866 (172.18.0.5)\n",
      "Hostname: 8e51997be210\n",
      "Decommission Status : Normal\n",
      "Configured Capacity: 25821052928 (24.05 GB)\n",
      "DFS Used: 255594721 (243.75 MB)\n",
      "Non DFS Used: 6144884511 (5.72 GB)\n",
      "DFS Remaining: 19403796480 (18.07 GB)\n",
      "DFS Used%: 0.99%\n",
      "DFS Remaining%: 75.15%\n",
      "Configured Cache Capacity: 0 (0 B)\n",
      "Cache Used: 0 (0 B)\n",
      "Cache Remaining: 0 (0 B)\n",
      "Cache Used%: 100.00%\n",
      "Cache Remaining%: 0.00%\n",
      "Xceivers: 0\n",
      "Last contact: Thu Oct 26 17:30:50 GMT 2023\n",
      "Last Block Report: Thu Oct 26 17:27:05 GMT 2023\n",
      "Num of Blocks: 0\n",
      "\n",
      "\n"
     ]
    }
   ],
   "source": [
    "#q8\n",
    "!hdfs dfsadmin -fs hdfs://boss:9000 -report"
   ]
  },
  {
   "cell_type": "code",
   "execution_count": 2,
   "id": "6ec8805f-cb68-4eac-b675-5073d1baa5e8",
   "metadata": {},
   "outputs": [],
   "source": [
    "import time\n",
    "time.sleep(30)"
   ]
  },
  {
   "cell_type": "code",
   "execution_count": 3,
   "id": "7197e5e9-01f0-471a-8996-ca09ebd14017",
   "metadata": {},
   "outputs": [
    {
     "name": "stdout",
     "output_type": "stream",
     "text": [
      "<Response [200]>\n",
      "{'topologyPaths': ['/default-rack/172.18.0.4:9866'], 'corrupt': False, 'cachedHosts': [], 'names': ['172.18.0.4:9866'], 'offset': 0, 'hosts': ['bb88c4bdf380'], 'length': 1048576, 'storageTypes': ['DISK']}\n",
      "bb88c4bdf380\n",
      "{'topologyPaths': ['/default-rack/172.18.0.4:9866'], 'corrupt': False, 'cachedHosts': [], 'names': ['172.18.0.4:9866'], 'offset': 1048576, 'hosts': ['bb88c4bdf380'], 'length': 1048576, 'storageTypes': ['DISK']}\n",
      "bb88c4bdf380\n",
      "{'topologyPaths': ['/default-rack/172.18.0.4:9866'], 'corrupt': False, 'cachedHosts': [], 'names': ['172.18.0.4:9866'], 'offset': 2097152, 'hosts': ['bb88c4bdf380'], 'length': 1048576, 'storageTypes': ['DISK']}\n",
      "bb88c4bdf380\n",
      "{'topologyPaths': ['/default-rack/172.18.0.4:9866'], 'corrupt': False, 'cachedHosts': [], 'names': ['172.18.0.4:9866'], 'offset': 3145728, 'hosts': ['bb88c4bdf380'], 'length': 1048576, 'storageTypes': ['DISK']}\n",
      "bb88c4bdf380\n",
      "{'topologyPaths': ['/default-rack/172.18.0.4:9866'], 'corrupt': False, 'cachedHosts': [], 'names': ['172.18.0.4:9866'], 'offset': 4194304, 'hosts': ['bb88c4bdf380'], 'length': 1048576, 'storageTypes': ['DISK']}\n",
      "bb88c4bdf380\n",
      "{'topologyPaths': [], 'corrupt': False, 'cachedHosts': [], 'names': [], 'offset': 5242880, 'hosts': [], 'length': 1048576, 'storageTypes': []}\n"
     ]
    },
    {
     "ename": "IndexError",
     "evalue": "list index out of range",
     "output_type": "error",
     "traceback": [
      "\u001b[0;31m---------------------------------------------------------------------------\u001b[0m",
      "\u001b[0;31mIndexError\u001b[0m                                Traceback (most recent call last)",
      "Cell \u001b[0;32mIn[3], line 11\u001b[0m\n\u001b[1;32m      9\u001b[0m \u001b[38;5;28;01melse\u001b[39;00m:\n\u001b[1;32m     10\u001b[0m     \u001b[38;5;28mprint\u001b[39m(r\u001b[38;5;241m.\u001b[39mjson()\u001b[38;5;241m.\u001b[39mget(\u001b[38;5;124m\"\u001b[39m\u001b[38;5;124mBlockLocations\u001b[39m\u001b[38;5;124m\"\u001b[39m)\u001b[38;5;241m.\u001b[39mget(\u001b[38;5;124m\"\u001b[39m\u001b[38;5;124mBlockLocation\u001b[39m\u001b[38;5;124m\"\u001b[39m)[i])\n\u001b[0;32m---> 11\u001b[0m     \u001b[38;5;28mid\u001b[39m \u001b[38;5;241m=\u001b[39m \u001b[43mr\u001b[49m\u001b[38;5;241;43m.\u001b[39;49m\u001b[43mjson\u001b[49m\u001b[43m(\u001b[49m\u001b[43m)\u001b[49m\u001b[38;5;241;43m.\u001b[39;49m\u001b[43mget\u001b[49m\u001b[43m(\u001b[49m\u001b[38;5;124;43m\"\u001b[39;49m\u001b[38;5;124;43mBlockLocations\u001b[39;49m\u001b[38;5;124;43m\"\u001b[39;49m\u001b[43m)\u001b[49m\u001b[38;5;241;43m.\u001b[39;49m\u001b[43mget\u001b[49m\u001b[43m(\u001b[49m\u001b[38;5;124;43m\"\u001b[39;49m\u001b[38;5;124;43mBlockLocation\u001b[39;49m\u001b[38;5;124;43m\"\u001b[39;49m\u001b[43m)\u001b[49m\u001b[43m[\u001b[49m\u001b[43mi\u001b[49m\u001b[43m]\u001b[49m\u001b[38;5;241;43m.\u001b[39;49m\u001b[43mget\u001b[49m\u001b[43m(\u001b[49m\u001b[38;5;124;43m\"\u001b[39;49m\u001b[38;5;124;43mhosts\u001b[39;49m\u001b[38;5;124;43m\"\u001b[39;49m\u001b[43m)\u001b[49m\u001b[43m[\u001b[49m\u001b[38;5;241;43m0\u001b[39;49m\u001b[43m]\u001b[49m\n\u001b[1;32m     12\u001b[0m     \u001b[38;5;28mprint\u001b[39m(\u001b[38;5;28mid\u001b[39m)\n\u001b[1;32m     13\u001b[0m blocks \u001b[38;5;241m=\u001b[39m r\u001b[38;5;241m.\u001b[39mjson()\u001b[38;5;241m.\u001b[39mget(\u001b[38;5;124m\"\u001b[39m\u001b[38;5;124mBlockLocations\u001b[39m\u001b[38;5;124m\"\u001b[39m)\u001b[38;5;241m.\u001b[39mget(\u001b[38;5;124m\"\u001b[39m\u001b[38;5;124mBlockLocation\u001b[39m\u001b[38;5;124m\"\u001b[39m)[i]\u001b[38;5;241m.\u001b[39mget(\u001b[38;5;124m\"\u001b[39m\u001b[38;5;124mlength\u001b[39m\u001b[38;5;124m\"\u001b[39m) \u001b[38;5;241m/\u001b[39m \u001b[38;5;241m1048576\u001b[39m\n",
      "\u001b[0;31mIndexError\u001b[0m: list index out of range"
     ]
    }
   ],
   "source": [
    "import requests\n",
    "r = requests.get(f\"http://boss:9870/webhdfs/v1/single.csv?op=GETFILEBLOCKLOCATIONS\")\n",
    "print(r)\n",
    "containerDict = {}\n",
    "print\n",
    "for i in range(len(r.json().get(\"BlockLocations\").get(\"BlockLocation\"))):\n",
    "    if (r.status_code == 403):\n",
    "        id = \"lost\"\n",
    "    else:\n",
    "        print(r.json().get(\"BlockLocations\").get(\"BlockLocation\")[i])\n",
    "        id = r.json().get(\"BlockLocations\").get(\"BlockLocation\")[i].get(\"hosts\")[0]\n",
    "        print(id)\n",
    "    blocks = r.json().get(\"BlockLocations\").get(\"BlockLocation\")[i].get(\"length\") / 1048576\n",
    "    count = containerDict.setdefault(id, 0)\n",
    "    if (count == None):\n",
    "            count = 0\n",
    "    containerDict.update({id: (count+blocks)});\n",
    "containerDict"
   ]
  },
  {
   "cell_type": "code",
   "execution_count": null,
   "id": "f488fff9-8258-4432-a644-f4272a5a4618",
   "metadata": {},
   "outputs": [],
   "source": [
    "#q10\n",
    "count = 0\n",
    "with hdfs.open_input_file(\"/single.csv\") as f:\n",
    "    reader = io.TextIOWrapper(io.BufferedReader(f))\n",
    "    for i, line in enumerate(reader):\n",
    "        if re.search(r'Single Family', line):\n",
    "            count += 1\n",
    "count"
   ]
  },
  {
   "cell_type": "code",
   "execution_count": null,
   "id": "4bc791ed-3335-447b-a76d-46ba42af7188",
   "metadata": {},
   "outputs": [],
   "source": []
  }
 ],
 "metadata": {
  "kernelspec": {
   "display_name": "Python 3 (ipykernel)",
   "language": "python",
   "name": "python3"
  },
  "language_info": {
   "codemirror_mode": {
    "name": "ipython",
    "version": 3
   },
   "file_extension": ".py",
   "mimetype": "text/x-python",
   "name": "python",
   "nbconvert_exporter": "python",
   "pygments_lexer": "ipython3",
   "version": "3.10.12"
  }
 },
 "nbformat": 4,
 "nbformat_minor": 5
}
