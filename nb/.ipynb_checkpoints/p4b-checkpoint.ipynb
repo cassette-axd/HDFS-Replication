{
 "cells": [
  {
   "cell_type": "markdown",
   "id": "3cbfa5e4-6571-4fca-b868-96305e834f0d",
   "metadata": {},
   "source": [
    "# Part 4: Disaster Strikes"
   ]
  },
  {
   "cell_type": "code",
   "execution_count": 6,
   "id": "4510438c-34d5-4231-aff2-5efc5ef684b8",
   "metadata": {},
   "outputs": [
    {
     "name": "stdout",
     "output_type": "stream",
     "text": [
      "Configured Capacity: 25821052928 (24.05 GB)\n",
      "Present Capacity: 13892201301 (12.94 GB)\n",
      "DFS Remaining: 13629378560 (12.69 GB)\n",
      "DFS Used: 262822741 (250.65 MB)\n",
      "DFS Used%: 1.89%\n",
      "Replicated Blocks:\n",
      "\tUnder replicated blocks: 167\n",
      "\tBlocks with corrupt replicas: 0\n",
      "\tMissing blocks: 85\n",
      "\tMissing blocks (with replication factor 1): 85\n",
      "\tLow redundancy blocks with highest priority to recover: 167\n",
      "\tPending deletion blocks: 0\n",
      "Erasure Coded Block Groups: \n",
      "\tLow redundancy block groups: 0\n",
      "\tBlock groups with corrupt internal blocks: 0\n",
      "\tMissing block groups: 0\n",
      "\tLow redundancy blocks with highest priority to recover: 0\n",
      "\tPending deletion blocks: 0\n",
      "\n",
      "-------------------------------------------------\n",
      "Live datanodes (1):\n",
      "\n",
      "Name: 172.20.0.2:9866 (project-4-perrito_p4-dn-1.project-4-perrito_p4_default)\n",
      "Hostname: 1ad513ac0fc9\n",
      "Decommission Status : Normal\n",
      "Configured Capacity: 25821052928 (24.05 GB)\n",
      "DFS Used: 262822741 (250.65 MB)\n",
      "Non DFS Used: 11912074411 (11.09 GB)\n",
      "DFS Remaining: 13629378560 (12.69 GB)\n",
      "DFS Used%: 1.02%\n",
      "DFS Remaining%: 52.78%\n",
      "Configured Cache Capacity: 0 (0 B)\n",
      "Cache Used: 0 (0 B)\n",
      "Cache Remaining: 0 (0 B)\n",
      "Cache Used%: 100.00%\n",
      "Cache Remaining%: 0.00%\n",
      "Xceivers: 0\n",
      "Last contact: Fri Oct 27 01:53:02 GMT 2023\n",
      "Last Block Report: Fri Oct 27 01:44:29 GMT 2023\n",
      "Num of Blocks: 249\n",
      "\n",
      "\n",
      "Dead datanodes (1):\n",
      "\n",
      "Name: 172.20.0.5:9866 (172.20.0.5)\n",
      "Hostname: 4de4baa503f4\n",
      "Decommission Status : Normal\n",
      "Configured Capacity: 25821052928 (24.05 GB)\n",
      "DFS Used: 266162471 (253.83 MB)\n",
      "Non DFS Used: 11908697817 (11.09 GB)\n",
      "DFS Remaining: 13629415424 (12.69 GB)\n",
      "DFS Used%: 1.03%\n",
      "DFS Remaining%: 52.78%\n",
      "Configured Cache Capacity: 0 (0 B)\n",
      "Cache Used: 0 (0 B)\n",
      "Cache Remaining: 0 (0 B)\n",
      "Cache Used%: 100.00%\n",
      "Cache Remaining%: 0.00%\n",
      "Xceivers: 0\n",
      "Last contact: Fri Oct 27 01:51:17 GMT 2023\n",
      "Last Block Report: Fri Oct 27 01:44:29 GMT 2023\n",
      "Num of Blocks: 0\n",
      "\n",
      "\n"
     ]
    }
   ],
   "source": [
    "#q8\n",
    "!hdfs dfsadmin -fs hdfs://boss:9000 -report"
   ]
  },
  {
   "cell_type": "code",
   "execution_count": 4,
   "id": "6ec8805f-cb68-4eac-b675-5073d1baa5e8",
   "metadata": {},
   "outputs": [],
   "source": [
    "import time\n",
    "time.sleep(30)"
   ]
  },
  {
   "cell_type": "code",
   "execution_count": 7,
   "id": "7197e5e9-01f0-471a-8996-ca09ebd14017",
   "metadata": {},
   "outputs": [
    {
     "data": {
      "text/plain": [
       "{'lost': 85.0, '1ad513ac0fc9': 81.83969402313232}"
      ]
     },
     "execution_count": 7,
     "metadata": {},
     "output_type": "execute_result"
    }
   ],
   "source": [
    "#q9\n",
    "import requests\n",
    "r = requests.get(f\"http://boss:9870/webhdfs/v1/single.csv?op=GETFILEBLOCKLOCATIONS\")\n",
    "containerDict = {}\n",
    "for i in range(len(r.json().get(\"BlockLocations\").get(\"BlockLocation\"))):\n",
    "    offset = r.json().get(\"BlockLocations\").get(\"BlockLocation\")[i].get(\"offset\")\n",
    "    status = requests.get(f\"http://boss:9870/webhdfs/v1/single.csv?op=OPEN&offset={offset}&noredirect=true\");\n",
    "    if (status.status_code == 403):\n",
    "        id = \"lost\"\n",
    "    else:\n",
    "        id = r.json().get(\"BlockLocations\").get(\"BlockLocation\")[i].get(\"hosts\")[0]\n",
    "    blocks = r.json().get(\"BlockLocations\").get(\"BlockLocation\")[i].get(\"length\") / 1048576\n",
    "    count = containerDict.setdefault(id, 0)\n",
    "    if (count == None):\n",
    "            count = 0\n",
    "    containerDict.update({id: (count+blocks)});\n",
    "containerDict"
   ]
  },
  {
   "cell_type": "code",
   "execution_count": 8,
   "id": "051fe1b8-877e-48f6-b27e-bb8335f0b758",
   "metadata": {},
   "outputs": [],
   "source": [
    "import io\n",
    "import re"
   ]
  },
  {
   "cell_type": "code",
   "execution_count": null,
   "id": "f488fff9-8258-4432-a644-f4272a5a4618",
   "metadata": {},
   "outputs": [],
   "source": [
    "#q10\n",
    "import requests\n",
    "count = 0\n",
    "r = requests.get(f\"http://boss:9870/webhdfs/v1/single.csv?op=GETFILEBLOCKLOCATIONS\")\n",
    "for i in range(len(r.json().get(\"BlockLocations\").get(\"BlockLocation\"))):\n",
    "    offset = r.json().get(\"BlockLocations\").get(\"BlockLocation\")[i].get(\"offset\")\n",
    "    length = r.json().get(\"BlockLocations\").get(\"BlockLocation\")[i].get(\"length\")\n",
    "    status = requests.get(f\"http://boss:9870/webhdfs/v1/single.csv?op=OPEN&offset={offset}&length={length}\");\n",
    "    # print(status)\n",
    "    if (status.status_code != 403):\n",
    "        content = io.BytesIO(status.content)\n",
    "        reader = io.TextIOWrapper(io.BufferedReader(content))\n",
    "        for i, line in enumerate(reader):\n",
    "            if re.search(r'Single Family', line):\n",
    "                count += 1\n",
    "        # with status.content as f:\n",
    "        #     reader = io.TextIOWrapper(io.BufferedReader(f))\n",
    "        #     for i, line in enumerate(reader):\n",
    "        #         if re.search(r'Single Family', line):\n",
    "        #             count += 1\n",
    "count"
   ]
  },
  {
   "cell_type": "code",
   "execution_count": null,
   "id": "dc5f21af-64de-40e9-8ded-8e897cce3913",
   "metadata": {},
   "outputs": [],
   "source": []
  }
 ],
 "metadata": {
  "kernelspec": {
   "display_name": "Python 3 (ipykernel)",
   "language": "python",
   "name": "python3"
  },
  "language_info": {
   "codemirror_mode": {
    "name": "ipython",
    "version": 3
   },
   "file_extension": ".py",
   "mimetype": "text/x-python",
   "name": "python",
   "nbconvert_exporter": "python",
   "pygments_lexer": "ipython3",
   "version": "3.10.12"
  }
 },
 "nbformat": 4,
 "nbformat_minor": 5
}
