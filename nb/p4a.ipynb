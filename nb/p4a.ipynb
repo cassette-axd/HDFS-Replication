{
 "cells": [
  {
   "cell_type": "markdown",
   "id": "680017d1-0f9d-499a-8b7c-5d28e60aa4e6",
   "metadata": {},
   "source": [
    "## Q1: how many live DataNodes are in the cluster?"
   ]
  },
  {
   "cell_type": "code",
   "execution_count": 4,
   "id": "8e46454b-f344-4a93-9efd-2e466db88eb2",
   "metadata": {},
   "outputs": [
    {
     "name": "stdout",
     "output_type": "stream",
     "text": [
      "Configured Capacity: 51642105856 (48.10 GB)\n",
      "Present Capacity: 25049251840 (23.33 GB)\n",
      "DFS Remaining: 25049194496 (23.33 GB)\n",
      "DFS Used: 57344 (56 KB)\n",
      "DFS Used%: 0.00%\n",
      "Replicated Blocks:\n",
      "\tUnder replicated blocks: 0\n",
      "\tBlocks with corrupt replicas: 0\n",
      "\tMissing blocks: 0\n",
      "\tMissing blocks (with replication factor 1): 0\n",
      "\tLow redundancy blocks with highest priority to recover: 0\n",
      "\tPending deletion blocks: 0\n",
      "Erasure Coded Block Groups: \n",
      "\tLow redundancy block groups: 0\n",
      "\tBlock groups with corrupt internal blocks: 0\n",
      "\tMissing block groups: 0\n",
      "\tLow redundancy blocks with highest priority to recover: 0\n",
      "\tPending deletion blocks: 0\n",
      "\n",
      "-------------------------------------------------\n",
      "Live datanodes (2):\n",
      "\n",
      "Name: 172.18.0.3:9866 (project-4-perrito_p4-dn-1.project-4-perrito_p4_default)\n",
      "Hostname: 21c54dc748f4\n",
      "Decommission Status : Normal\n",
      "Configured Capacity: 25821052928 (24.05 GB)\n",
      "DFS Used: 28672 (28 KB)\n",
      "Non DFS Used: 13279649792 (12.37 GB)\n",
      "DFS Remaining: 12524597248 (11.66 GB)\n",
      "DFS Used%: 0.00%\n",
      "DFS Remaining%: 48.51%\n",
      "Configured Cache Capacity: 0 (0 B)\n",
      "Cache Used: 0 (0 B)\n",
      "Cache Remaining: 0 (0 B)\n",
      "Cache Used%: 100.00%\n",
      "Cache Remaining%: 0.00%\n",
      "Xceivers: 0\n",
      "Last contact: Wed Oct 25 05:36:19 GMT 2023\n",
      "Last Block Report: Wed Oct 25 04:54:37 GMT 2023\n",
      "Num of Blocks: 0\n",
      "\n",
      "\n",
      "Name: 172.18.0.5:9866 (project-4-perrito_p4-dn-2.project-4-perrito_p4_default)\n",
      "Hostname: 5ff1668e1ef6\n",
      "Decommission Status : Normal\n",
      "Configured Capacity: 25821052928 (24.05 GB)\n",
      "DFS Used: 28672 (28 KB)\n",
      "Non DFS Used: 13279649792 (12.37 GB)\n",
      "DFS Remaining: 12524597248 (11.66 GB)\n",
      "DFS Used%: 0.00%\n",
      "DFS Remaining%: 48.51%\n",
      "Configured Cache Capacity: 0 (0 B)\n",
      "Cache Used: 0 (0 B)\n",
      "Cache Remaining: 0 (0 B)\n",
      "Cache Used%: 100.00%\n",
      "Cache Remaining%: 0.00%\n",
      "Xceivers: 0\n",
      "Last contact: Wed Oct 25 05:36:19 GMT 2023\n",
      "Last Block Report: Wed Oct 25 05:04:10 GMT 2023\n",
      "Num of Blocks: 0\n",
      "\n",
      "\n"
     ]
    }
   ],
   "source": [
    "#q1\n",
    "!hdfs dfsadmin -fs hdfs://boss:9000 -report"
   ]
  },
  {
   "cell_type": "code",
   "execution_count": 6,
   "id": "961e8db2-f9fd-482e-903e-0d952dbb8dbb",
   "metadata": {},
   "outputs": [
    {
     "data": {
      "text/plain": [
       "174944099"
      ]
     },
     "execution_count": 6,
     "metadata": {},
     "output_type": "execute_result"
    }
   ],
   "source": [
    "import requests\n",
    "\n",
    "url = \" https://pages.cs.wisc.edu/~harter/cs544/data/hdma-wi-2021.csv\"\n",
    "r = requests.get(url, allow_redirects=True)\n",
    "\n",
    "open('hdma-wi-2021.csv', 'wb').write(r.content)"
   ]
  },
  {
   "cell_type": "code",
   "execution_count": null,
   "id": "3d0ea60c-081d-4df2-95d8-9f3c0c847c5b",
   "metadata": {},
   "outputs": [],
   "source": [
    "!hdfs dfs -rm -f hdfs://boss:9000/single.csv\n",
    "!hdfs dfs -rm -f hdfs://boss:9000/double.csv"
   ]
  },
  {
   "cell_type": "code",
   "execution_count": 14,
   "id": "927f77f5-ccbb-4c69-8859-dd844fde7efe",
   "metadata": {},
   "outputs": [
    {
     "name": "stdout",
     "output_type": "stream",
     "text": [
      "cp: `hdfs://boss:9000/single.csv': File exists\n",
      "cp: `hdfs://boss:9000/double.csv': File exists\n"
     ]
    }
   ],
   "source": [
    "!hdfs dfs -cp hdma-wi-2021.csv hdfs://boss:9000/single.csv\n",
    "!hdfs dfs -cp hdma-wi-2021.csv hdfs://boss:9000/double.csv"
   ]
  },
  {
   "cell_type": "code",
   "execution_count": 16,
   "id": "f0af38c4-1fe1-462f-8844-e72cb51f75ae",
   "metadata": {},
   "outputs": [
    {
     "name": "stdout",
     "output_type": "stream",
     "text": [
      "Found 2 items\n",
      "-rw-r--r--   3 root supergroup  174944099 2023-10-25 06:21 hdfs://boss:9000/double.csv\n",
      "-rw-r--r--   3 root supergroup  174944099 2023-10-25 06:20 hdfs://boss:9000/single.csv\n"
     ]
    }
   ],
   "source": [
    "!hdfs dfs -ls hdfs://boss:9000/"
   ]
  },
  {
   "cell_type": "markdown",
   "id": "ca78f8d9-e5e2-42fc-a0cf-b79b3a4ebcd9",
   "metadata": {},
   "source": [
    "## Q2: what are the logical and physical sizes of the CSV files?"
   ]
  },
  {
   "cell_type": "code",
   "execution_count": 17,
   "id": "c0109e3c-43d7-4e82-bf0d-7cb2294960d4",
   "metadata": {},
   "outputs": [
    {
     "name": "stdout",
     "output_type": "stream",
     "text": [
      "174944099  524832297  hdfs://boss:9000/double.csv\n",
      "174944099  524832297  hdfs://boss:9000/single.csv\n"
     ]
    }
   ],
   "source": [
    "!hdfs dfs -du hdfs://boss:9000/"
   ]
  },
  {
   "cell_type": "code",
   "execution_count": null,
   "id": "145c80ac-a611-47d8-83f7-68039b215597",
   "metadata": {},
   "outputs": [],
   "source": []
  }
 ],
 "metadata": {
  "kernelspec": {
   "display_name": "Python 3 (ipykernel)",
   "language": "python",
   "name": "python3"
  },
  "language_info": {
   "codemirror_mode": {
    "name": "ipython",
    "version": 3
   },
   "file_extension": ".py",
   "mimetype": "text/x-python",
   "name": "python",
   "nbconvert_exporter": "python",
   "pygments_lexer": "ipython3",
   "version": "3.10.12"
  }
 },
 "nbformat": 4,
 "nbformat_minor": 5
}
