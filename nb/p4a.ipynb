{
 "cells": [
  {
   "cell_type": "markdown",
   "id": "680017d1-0f9d-499a-8b7c-5d28e60aa4e6",
   "metadata": {},
   "source": [
    "# Part 1: Deployment and Data Upload"
   ]
  },
  {
   "cell_type": "code",
   "execution_count": 1,
   "id": "8e46454b-f344-4a93-9efd-2e466db88eb2",
   "metadata": {},
   "outputs": [
    {
     "name": "stdout",
     "output_type": "stream",
     "text": [
      "Configured Capacity: 51642105856 (48.10 GB)\n",
      "Present Capacity: 24579932160 (22.89 GB)\n",
      "DFS Remaining: 24579883008 (22.89 GB)\n",
      "DFS Used: 49152 (48 KB)\n",
      "DFS Used%: 0.00%\n",
      "Replicated Blocks:\n",
      "\tUnder replicated blocks: 0\n",
      "\tBlocks with corrupt replicas: 0\n",
      "\tMissing blocks: 0\n",
      "\tMissing blocks (with replication factor 1): 0\n",
      "\tLow redundancy blocks with highest priority to recover: 0\n",
      "\tPending deletion blocks: 0\n",
      "Erasure Coded Block Groups: \n",
      "\tLow redundancy block groups: 0\n",
      "\tBlock groups with corrupt internal blocks: 0\n",
      "\tMissing block groups: 0\n",
      "\tLow redundancy blocks with highest priority to recover: 0\n",
      "\tPending deletion blocks: 0\n",
      "\n",
      "-------------------------------------------------\n",
      "Live datanodes (2):\n",
      "\n",
      "Name: 172.18.0.4:9866 (project-4-perrito_p4-dn-2.project-4-perrito_p4_default)\n",
      "Hostname: 352011038fb0\n",
      "Decommission Status : Normal\n",
      "Configured Capacity: 25821052928 (24.05 GB)\n",
      "DFS Used: 24576 (24 KB)\n",
      "Non DFS Used: 13514309632 (12.59 GB)\n",
      "DFS Remaining: 12289941504 (11.45 GB)\n",
      "DFS Used%: 0.00%\n",
      "DFS Remaining%: 47.60%\n",
      "Configured Cache Capacity: 0 (0 B)\n",
      "Cache Used: 0 (0 B)\n",
      "Cache Remaining: 0 (0 B)\n",
      "Cache Used%: 100.00%\n",
      "Cache Remaining%: 0.00%\n",
      "Xceivers: 0\n",
      "Last contact: Thu Oct 26 23:10:09 GMT 2023\n",
      "Last Block Report: Thu Oct 26 23:10:06 GMT 2023\n",
      "Num of Blocks: 0\n",
      "\n",
      "\n",
      "Name: 172.18.0.5:9866 (project-4-perrito_p4-dn-1.project-4-perrito_p4_default)\n",
      "Hostname: 4e41b8f42293\n",
      "Decommission Status : Normal\n",
      "Configured Capacity: 25821052928 (24.05 GB)\n",
      "DFS Used: 24576 (24 KB)\n",
      "Non DFS Used: 13514309632 (12.59 GB)\n",
      "DFS Remaining: 12289941504 (11.45 GB)\n",
      "DFS Used%: 0.00%\n",
      "DFS Remaining%: 47.60%\n",
      "Configured Cache Capacity: 0 (0 B)\n",
      "Cache Used: 0 (0 B)\n",
      "Cache Remaining: 0 (0 B)\n",
      "Cache Used%: 100.00%\n",
      "Cache Remaining%: 0.00%\n",
      "Xceivers: 0\n",
      "Last contact: Thu Oct 26 23:10:09 GMT 2023\n",
      "Last Block Report: Thu Oct 26 23:10:06 GMT 2023\n",
      "Num of Blocks: 0\n",
      "\n",
      "\n"
     ]
    }
   ],
   "source": [
    "#q1\n",
    "!hdfs dfsadmin -fs hdfs://boss:9000 -report"
   ]
  },
  {
   "cell_type": "code",
   "execution_count": 2,
   "id": "961e8db2-f9fd-482e-903e-0d952dbb8dbb",
   "metadata": {},
   "outputs": [
    {
     "data": {
      "text/plain": [
       "174944099"
      ]
     },
     "execution_count": 2,
     "metadata": {},
     "output_type": "execute_result"
    }
   ],
   "source": [
    "import requests\n",
    "\n",
    "url = \"https://pages.cs.wisc.edu/~harter/cs544/data/hdma-wi-2021.csv\"\n",
    "r = requests.get(url, allow_redirects=True)\n",
    "\n",
    "open('hdma-wi-2021.csv', 'wb').write(r.content)"
   ]
  },
  {
   "cell_type": "code",
   "execution_count": 3,
   "id": "3d0ea60c-081d-4df2-95d8-9f3c0c847c5b",
   "metadata": {},
   "outputs": [],
   "source": [
    "!hdfs dfs -rm -f hdfs://boss:9000/single.csv\n",
    "!hdfs dfs -rm -f hdfs://boss:9000/double.csv"
   ]
  },
  {
   "cell_type": "code",
   "execution_count": 11,
   "id": "927f77f5-ccbb-4c69-8859-dd844fde7efe",
   "metadata": {},
   "outputs": [
    {
     "name": "stdout",
     "output_type": "stream",
     "text": [
      "cp: `hdfs://boss:9000/single.csv': File exists\n",
      "cp: `hdfs://boss:9000/double.csv': File exists\n"
     ]
    }
   ],
   "source": [
    "!hdfs dfs -D dfs.block.size=1048576 -D dfs.replication=1 -cp hdma-wi-2021.csv hdfs://boss:9000/single.csv\n",
    "!hdfs dfs -D dfs.block.size=1048576 -D dfs.replication=2 -cp hdma-wi-2021.csv hdfs://boss:9000/double.csv"
   ]
  },
  {
   "cell_type": "code",
   "execution_count": 12,
   "id": "f0af38c4-1fe1-462f-8844-e72cb51f75ae",
   "metadata": {},
   "outputs": [
    {
     "name": "stdout",
     "output_type": "stream",
     "text": [
      "Found 2 items\n",
      "-rw-r--r--   2 root supergroup  174944099 2023-10-26 23:10 hdfs://boss:9000/double.csv\n",
      "-rw-r--r--   1 root supergroup  174944099 2023-10-26 23:10 hdfs://boss:9000/single.csv\n"
     ]
    }
   ],
   "source": [
    "!hdfs dfs -ls hdfs://boss:9000/"
   ]
  },
  {
   "cell_type": "code",
   "execution_count": 13,
   "id": "c0109e3c-43d7-4e82-bf0d-7cb2294960d4",
   "metadata": {},
   "outputs": [
    {
     "name": "stdout",
     "output_type": "stream",
     "text": [
      "166.8 M  333.7 M  hdfs://boss:9000/double.csv\n",
      "166.8 M  166.8 M  hdfs://boss:9000/single.csv\n"
     ]
    }
   ],
   "source": [
    "#q2\n",
    "!hdfs dfs -du -h hdfs://boss:9000/"
   ]
  },
  {
   "cell_type": "markdown",
   "id": "f4357165-b584-41d6-9fd0-de945ba2df0a",
   "metadata": {},
   "source": [
    "# Part 2: WebHDFS"
   ]
  },
  {
   "cell_type": "code",
   "execution_count": 14,
   "id": "c131991b-cf63-4848-af1c-ee549e8d0a57",
   "metadata": {},
   "outputs": [
    {
     "data": {
      "text/plain": [
       "{'FileStatus': {'accessTime': 1698361836305,\n",
       "  'blockSize': 1048576,\n",
       "  'childrenNum': 0,\n",
       "  'fileId': 16386,\n",
       "  'group': 'supergroup',\n",
       "  'length': 174944099,\n",
       "  'modificationTime': 1698361843164,\n",
       "  'owner': 'root',\n",
       "  'pathSuffix': '',\n",
       "  'permission': '644',\n",
       "  'replication': 1,\n",
       "  'storagePolicy': 0,\n",
       "  'type': 'FILE'}}"
      ]
     },
     "execution_count": 14,
     "metadata": {},
     "output_type": "execute_result"
    }
   ],
   "source": [
    "#q3\n",
    "r = requests.get(\"http://boss:9870/webhdfs/v1/single.csv?op=GETFILESTATUS\")\n",
    "r.json()"
   ]
  },
  {
   "cell_type": "code",
   "execution_count": 15,
   "id": "13ee5ef6-5dac-4788-9a7e-497144bce3f6",
   "metadata": {},
   "outputs": [
    {
     "data": {
      "text/plain": [
       "'http://352011038fb0:9864/webhdfs/v1/single.csv?op=OPEN&namenoderpcaddress=boss:9000&offset=0'"
      ]
     },
     "execution_count": 15,
     "metadata": {},
     "output_type": "execute_result"
    }
   ],
   "source": [
    "#q4\n",
    "r = requests.get(\"http://boss:9870/webhdfs/v1/single.csv?op=OPEN&offset=0&noredirect=true\")\n",
    "r.json()[\"Location\"]"
   ]
  },
  {
   "cell_type": "code",
   "execution_count": 16,
   "id": "e215b3ce-3f84-4cae-b437-1b97d31bef30",
   "metadata": {},
   "outputs": [
    {
     "data": {
      "text/plain": [
       "{'352011038fb0': 85.0, '4e41b8f42293': 81.83969402313232}"
      ]
     },
     "execution_count": 16,
     "metadata": {},
     "output_type": "execute_result"
    }
   ],
   "source": [
    "#q5\n",
    "r = requests.get(f\"http://boss:9870/webhdfs/v1/single.csv?op=GETFILEBLOCKLOCATIONS\")\n",
    "containerDict = {}\n",
    "for i in range(len(r.json().get(\"BlockLocations\").get(\"BlockLocation\"))):\n",
    "    id = r.json().get(\"BlockLocations\").get(\"BlockLocation\")[i].get(\"hosts\")[0]\n",
    "    blocks = r.json().get(\"BlockLocations\").get(\"BlockLocation\")[i].get(\"length\") / 1048576\n",
    "    count = containerDict.setdefault(id, 0)\n",
    "    if (count == None):\n",
    "            count = 0\n",
    "    containerDict.update({id: (count+blocks)});\n",
    "containerDict"
   ]
  },
  {
   "cell_type": "markdown",
   "id": "231d98ff-9a72-494d-9efd-0be1d5249bc8",
   "metadata": {},
   "source": [
    "# Part 3: PyArrow"
   ]
  },
  {
   "cell_type": "code",
   "execution_count": 10,
   "id": "4fac782f-a394-4abe-ad19-3d0436968ef0",
   "metadata": {},
   "outputs": [],
   "source": [
    "import pyarrow as pa\n",
    "import pyarrow.fs"
   ]
  },
  {
   "cell_type": "code",
   "execution_count": 11,
   "id": "5e52daec-dcfa-4be6-98fe-e5bd993a07e4",
   "metadata": {},
   "outputs": [
    {
     "name": "stderr",
     "output_type": "stream",
     "text": [
      "2023-10-26 18:52:32,073 WARN util.NativeCodeLoader: Unable to load native-hadoop library for your platform... using builtin-java classes where applicable\n"
     ]
    },
    {
     "data": {
      "text/plain": [
       "b'activity_y'"
      ]
     },
     "execution_count": 11,
     "metadata": {},
     "output_type": "execute_result"
    }
   ],
   "source": [
    "#q6\n",
    "hdfs = pa.fs.HadoopFileSystem(\"boss\", 9000)\n",
    "retval = None\n",
    "with hdfs.open_input_file(\"/single.csv\") as f:\n",
    "    retval = f.read_at(10,0)\n",
    "\n",
    "retval"
   ]
  },
  {
   "cell_type": "code",
   "execution_count": 12,
   "id": "34cb03f6-2379-4a3e-9bf0-e5be4da6d2d3",
   "metadata": {},
   "outputs": [],
   "source": [
    "import io\n",
    "import re"
   ]
  },
  {
   "cell_type": "code",
   "execution_count": 13,
   "id": "2353d031-3517-4585-a728-74a2bf68aea6",
   "metadata": {},
   "outputs": [
    {
     "data": {
      "text/plain": [
       "444874"
      ]
     },
     "execution_count": 13,
     "metadata": {},
     "output_type": "execute_result"
    }
   ],
   "source": [
    "#q7\n",
    "count = 0\n",
    "with hdfs.open_input_file(\"/single.csv\") as f:\n",
    "    reader = io.TextIOWrapper(io.BufferedReader(f))\n",
    "    for i, line in enumerate(reader):\n",
    "        if re.search(r'Single Family', line):\n",
    "            count += 1\n",
    "count"
   ]
  }
 ],
 "metadata": {
  "kernelspec": {
   "display_name": "Python 3 (ipykernel)",
   "language": "python",
   "name": "python3"
  },
  "language_info": {
   "codemirror_mode": {
    "name": "ipython",
    "version": 3
   },
   "file_extension": ".py",
   "mimetype": "text/x-python",
   "name": "python",
   "nbconvert_exporter": "python",
   "pygments_lexer": "ipython3",
   "version": "3.10.12"
  }
 },
 "nbformat": 4,
 "nbformat_minor": 5
}
